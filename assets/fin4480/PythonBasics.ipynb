{
 "metadata": {
  "name": "",
  "signature": "sha256:35ad9f54875d1d7bf824b82727abf0f016f85aad02d1eac9f4ff7e3642b83d18"
 },
 "nbformat": 3,
 "nbformat_minor": 0,
 "worksheets": [
  {
   "cells": [
    {
     "cell_type": "markdown",
     "metadata": {},
     "source": [
      "# The Basics of Python Programming\n",
      "\n",
      "In this notebook we will cover the very basics of `Python` programming. A typical way to introduce a new programming languauge is to write what is called a \"Hello World\" program. This is a simple program that prints the message \"Hello World\".\n",
      "\n",
      "In `Python` this looks like the following:"
     ]
    },
    {
     "cell_type": "code",
     "collapsed": false,
     "input": [
      "print(\"Hello, World!\")"
     ],
     "language": "python",
     "metadata": {},
     "outputs": [
      {
       "output_type": "stream",
       "stream": "stdout",
       "text": [
        "Hello, World!\n"
       ]
      }
     ],
     "prompt_number": 1
    },
    {
     "cell_type": "markdown",
     "metadata": {},
     "source": [
      "I know, pretty boring. We can add a little bit of code surrounding this single line of `Python` to give us a start writing more complex programs."
     ]
    },
    {
     "cell_type": "code",
     "collapsed": false,
     "input": [
      "def main(message):\n",
      "    print(message)\n",
      "    \n",
      "if __name__ == \"__main__\":\n",
      "    main(\"Hello, World\")"
     ],
     "language": "python",
     "metadata": {},
     "outputs": [
      {
       "output_type": "stream",
       "stream": "stdout",
       "text": [
        "Hello, World\n"
       ]
      }
     ],
     "prompt_number": 3
    },
    {
     "cell_type": "markdown",
     "metadata": {},
     "source": [
      "This is a standard format that we will be using in this class to write our programs. It consists of a `main` function to control our program. We will learn about functions in a while.  "
     ]
    },
    {
     "cell_type": "markdown",
     "metadata": {},
     "source": [
      "## Introducing Python\n",
      "\n",
      "`Python` is an easy-to-use yet powerful programming language developed by Guido van Rossum, first released in 1991. In `Python` you can write quick and dirty throw-away small programs. Buy `Python` can also scale up to mission-critical and highly performant applications.\n",
      "\n",
      "### Python Is Easy to Use\n",
      "\n",
      "The purpose of any programming language is encode the thoughts of a programmer into computer code that can be executed by a computer. There are different categories of languages such as high-level and low-level languages. Examples of high-level languages are `C#`, `Java`, and `Visual Basic`. The distinguishing feature of a high-level language is that it is closer to human language than machine language. `Python` is a high-level language, and among these it is considered one of the simplest and closest to English. This ease of use translates to programmer productivity. `Python` programs are shortern and take less time to write than other programs in other languages. \n",
      "\n",
      "Examples of lower-level languages are `C`, `C++`, and the newcomer `D` language.\n",
      "\n",
      "### Python in Powerful\n",
      "\n",
      "`Python` has all the power you might want from a modern programming language. `Python` is powerful enough to be used by companies such as Google, IBM, Industrial Light + Magic, Microsoft, NASA, as well as Goldman Sachs. `Python` is used in the finance industry by asset management firms, investment banks, hedge funds, and high-frequency traders. \n",
      "\n",
      "### Python in Object-Oriented\n",
      "\n",
      "Object-oriented programming [(OOP)](http://en.wikipedia.org/wiki/Object-oriented_programming) is a modern approach to solving problems with computers. OOP is characterized by its use of objects, which are abstract data structures representing objects in the real world. In the OOP paradigm data and the methods that operate on them are coupled together in one concept.\n",
      "\n",
      "Languages like `C#` and `Java` are also object-oriented, but they force the OOP paradigm on programmers. For small programs this can be quite burdensome. In `Python` OOP is optional. It is not mandatory for small programs, or for situations that the programmer might not find it necessary. But it is there for large programs and when it is needed.\n",
      "\n",
      "### Python Is a \"Glue\" Language\n",
      "\n",
      "`Python` can be used together with other programming languages, such as `C/C++`, `Java`, and `Fortran`. This means that a programmer can take advantage of work already done in another language while using `Python`. It also means that he or she can leverage the strengths of other languages, such as the speed that `C` or `C++` might offer, while still enjoying the benefits of working in `Python`. This is how I use `Python` in my own research: I write performance critical pieces in `C++` and glue them together with `Python`. I also prototype new models and algorithms in `Python` and then re-write in `C++` once proven.\n",
      "\n",
      "Many of the modules that we will make heavy use of are actually written in `Fortran`, `C` or `C++`, although you can use them in `Python` without even being aware of it.\n",
      "\n",
      "\n",
      "### Python in Heavily Used in Scientific Computing\n",
      "\n",
      "***Third-party modules***  \n",
      "There is a vast body of Python modules created by the `Python` community. These include utilities for database connectivity, mathematics, statistics, and charting/plotting. Some notable ones that we will be using include:\n",
      "\n",
      "* ***IPython***: An enhanced Python shell, designed to increase the efficiency and usability of coding, testing and debugging Python. It includes both a Qt-based console and an interactive HTML notebook interface, both of which feature multiline editing, interactive plotting and syntax highlighting.\n",
      "* ***NumPy***: Numerical Python (NumPy) is a set of extensions that provides the ability to specify and manipulate array data structures. It provides array manipulation and computational capabilities similar to those found in Matlab or Octave. \n",
      "* ***SciPy***: An open source library of scientific tools for Python, SciPy supplements the NumPy module. SciPy gathering a variety of high level science and engineering modules together as a single package. SciPy includes modules for graphics and plotting, optimization, integration, special functions, signal and image processing, genetic algorithms, ODE solvers, and others.\n",
      "* ***Matplotlib***: Matplotlib is a python 2D plotting library which produces publication-quality figures in a variety of hardcopy formats and interactive environments across platforms. Its syntax is very similar to Matlab. \n",
      "* ***Pandas***: A module that provides high-performance, easy-to-use data structures and data analysis tools. In particular, the `DataFrame` class is useful for spreadsheet-like representation and mannipulation of data. Also includes high-level plotting functionality.\n",
      "\n",
      "\n",
      "### Python Runs Everywhere\n",
      "\n",
      "`Python` runs on everything from a smartphone to a supercomputer. It is also platform independent. That means that programs you write on your Windows computer will also run on a Linux computer unaltered. \n",
      "\n",
      "### The Python Interpreter\n",
      "\n",
      "`Python` is an *interpreted* language. The interpreter runs a program by executing one statement at a time. The standard `Python` interpreter can be invoked on the command line with the `python` command:\n",
      "\n",
      "```\n",
      "$ python\n",
      "Python 2.7.9 |Anaconda 2.1.0 (x86_64)| (default, Dec 15 2014, 10:37:34) \n",
      "[GCC 4.2.1 (Apple Inc. build 5577)] on darwin\n",
      "Type \"help\", \"copyright\", \"credits\" or \"license\" for more information.\n",
      "Anaconda is brought to you by Continuum Analytics.\n",
      "Please check out: http://continuum.io/thanks and https://binstar.org\n",
      ">>> \n",
      "```\n",
      "\n",
      "The `>>>` you see is the *prompt*  where you type expressions. To exit the `Python` interpreter and return to the command line, you can either type `exit()` or press `CTRL-D`.\n",
      "\n",
      "Running `Python` programs is as simple as calling `python` with a `.py` file as its first argument. Suppose we had created the script **hello.py** with these contents:\n",
      "\n",
      "```\n",
      "print(\"Hello, World!\")\n",
      "```\n",
      "\n",
      "We can run from the terminal as:\n",
      "\n",
      "```\n",
      "$ python hello.py\n",
      "Hello, World!\n",
      "```\n",
      "\n",
      "While a lot of `Python` programmers work this way, a lot programmers - especially in the *scientific* programming world - make use of IPython, an enhanced interactive `Python` interpreter. We will be taking a deeper dive on IPython in a few lectures. For now, you can work in IPython with the following:\n",
      "\n",
      "```\n",
      "$ ipython\n",
      "Python 2.7.9 |Anaconda 2.1.0 (x86_64)| (default, Dec 15 2014, 10:37:34) \n",
      "Type \"copyright\", \"credits\" or \"license\" for more information.\n",
      "\n",
      "IPython 2.2.0 -- An enhanced Interactive Python.\n",
      "Anaconda is brought to you by Continuum Analytics.\n",
      "Please check out: http://continuum.io/thanks and https://binstar.org\n",
      "?         -> Introduction and overview of IPython's features.\n",
      "%quickref -> Quick reference.\n",
      "help      -> Python's own help system.\n",
      "object?   -> Details about 'object', use 'object??' for extra details.\n",
      "\n",
      "In [1]: %run hello.py\n",
      "Hello, World!\n",
      "\n",
      "In [2]: \n",
      "```\n",
      "\n",
      "## Python Language Essentials\n",
      "\n",
      "### Variables and Types\n",
      "\n",
      "`Python` has a small set of built-in types for handling numerical data, strings of characters, boolean (`True` or `False`) values, as well as dates and times. The following table lists the main types of interest:\n",
      "\n",
      "\n",
      "| Type      | Description                                                                                  |\n",
      "|:----------|:---------------------------------------------------------------------------------------------|\n",
      "| `None`    | The `Python` \"null\" value (only instance of the `None` object exist)                         |\n",
      "| `str`     | String type. ASCII-valued only in `Python 2.x` and Unicode in `Python 3`                     |\n",
      "| `unicode` | Unicode string type                                                                          |\n",
      "| `float`   | Double-precision (64-bit) floating point number. Note there is no separate `double` type     |\n",
      "| `bool`    | A `True` or `False` value                                                                    |\n",
      "| `int`     | Signed integer with maximum value determined by the platform                                 |\n",
      "| `long`    | Arbitrary precision signed integer. Large `int` values are automatically converted to `long` |\n",
      "\n",
      "\n",
      "***Numeric Types***\n",
      "\n",
      "The primary `Python` types for numbers are `int` and `float`. The size of the integer which can be stored as an `int` is dependent on your platform (32 or 64-bit), but `Python` will transparently convert a very large integer to `long`, which can store arbitrarily long integers.\n"
     ]
    },
    {
     "cell_type": "code",
     "collapsed": false,
     "input": [
      "ival = 17239871"
     ],
     "language": "python",
     "metadata": {},
     "outputs": [],
     "prompt_number": 4
    },
    {
     "cell_type": "code",
     "collapsed": false,
     "input": [
      "ival ** 6"
     ],
     "language": "python",
     "metadata": {},
     "outputs": [
      {
       "metadata": {},
       "output_type": "pyout",
       "prompt_number": 5,
       "text": [
        "26254519291092456596965462913230729701102721L"
       ]
      }
     ],
     "prompt_number": 5
    },
    {
     "cell_type": "markdown",
     "metadata": {},
     "source": [
      "Floating point numbers are represented with the `Python` `float` type. Under the hood each one is a double-precision (64-bits) value. They can also be expressed using scientific notation:"
     ]
    },
    {
     "cell_type": "code",
     "collapsed": false,
     "input": [
      "fval = 7.243"
     ],
     "language": "python",
     "metadata": {},
     "outputs": [],
     "prompt_number": 6
    },
    {
     "cell_type": "code",
     "collapsed": false,
     "input": [
      "fval2 = 6.78e-5"
     ],
     "language": "python",
     "metadata": {},
     "outputs": [],
     "prompt_number": 7
    },
    {
     "cell_type": "markdown",
     "metadata": {},
     "source": [
      "***Strings***\n",
      "\n",
      "Many people use `Python` for its powerful and flexible built-in string processing capabilities. You can write *string literal* using either single quotes ' or double quotes\":"
     ]
    },
    {
     "cell_type": "code",
     "collapsed": false,
     "input": [
      "a = 'one way of writing a string'"
     ],
     "language": "python",
     "metadata": {},
     "outputs": [],
     "prompt_number": 8
    },
    {
     "cell_type": "code",
     "collapsed": false,
     "input": [
      "b = \"another way\""
     ],
     "language": "python",
     "metadata": {},
     "outputs": [],
     "prompt_number": 9
    },
    {
     "cell_type": "markdown",
     "metadata": {},
     "source": [
      "For multiline strings with line breaks, you can use triple quotes, either ''' or \"\"\":"
     ]
    },
    {
     "cell_type": "code",
     "collapsed": false,
     "input": [
      "c = \"\"\"\n",
      "This is a longer string that\n",
      "spans multiple lines\n",
      "\"\"\""
     ],
     "language": "python",
     "metadata": {},
     "outputs": [],
     "prompt_number": 11
    },
    {
     "cell_type": "markdown",
     "metadata": {},
     "source": [
      "`Python` strings are immutable; you cannot modify a string without creating a new string:"
     ]
    },
    {
     "cell_type": "code",
     "collapsed": false,
     "input": [
      "a = 'this is a string'"
     ],
     "language": "python",
     "metadata": {},
     "outputs": [],
     "prompt_number": 12
    },
    {
     "cell_type": "code",
     "collapsed": false,
     "input": [
      "a[10] = 'f'"
     ],
     "language": "python",
     "metadata": {},
     "outputs": [
      {
       "ename": "TypeError",
       "evalue": "'str' object does not support item assignment",
       "output_type": "pyerr",
       "traceback": [
        "\u001b[0;31m---------------------------------------------------------------------------\u001b[0m\n\u001b[0;31mTypeError\u001b[0m                                 Traceback (most recent call last)",
        "\u001b[0;32m<ipython-input-13-5ca625d1e504>\u001b[0m in \u001b[0;36m<module>\u001b[0;34m()\u001b[0m\n\u001b[0;32m----> 1\u001b[0;31m \u001b[0ma\u001b[0m\u001b[0;34m[\u001b[0m\u001b[0;36m10\u001b[0m\u001b[0;34m]\u001b[0m \u001b[0;34m=\u001b[0m \u001b[0;34m'f'\u001b[0m\u001b[0;34m\u001b[0m\u001b[0m\n\u001b[0m",
        "\u001b[0;31mTypeError\u001b[0m: 'str' object does not support item assignment"
       ]
      }
     ],
     "prompt_number": 13
    },
    {
     "cell_type": "code",
     "collapsed": false,
     "input": [
      "b = a.replace('string', 'longer string')"
     ],
     "language": "python",
     "metadata": {},
     "outputs": [],
     "prompt_number": 14
    },
    {
     "cell_type": "code",
     "collapsed": false,
     "input": [
      "b"
     ],
     "language": "python",
     "metadata": {},
     "outputs": [
      {
       "metadata": {},
       "output_type": "pyout",
       "prompt_number": 15,
       "text": [
        "'this is a longer string'"
       ]
      }
     ],
     "prompt_number": 15
    },
    {
     "cell_type": "markdown",
     "metadata": {},
     "source": [
      "Many `Python` objects can be converted to a string using the `str` function:"
     ]
    },
    {
     "cell_type": "code",
     "collapsed": false,
     "input": [
      "a = 5.6"
     ],
     "language": "python",
     "metadata": {},
     "outputs": [],
     "prompt_number": 16
    },
    {
     "cell_type": "code",
     "collapsed": false,
     "input": [
      "s = str(a)"
     ],
     "language": "python",
     "metadata": {},
     "outputs": [],
     "prompt_number": 17
    },
    {
     "cell_type": "code",
     "collapsed": false,
     "input": [
      "s"
     ],
     "language": "python",
     "metadata": {},
     "outputs": [
      {
       "metadata": {},
       "output_type": "pyout",
       "prompt_number": 18,
       "text": [
        "'5.6'"
       ]
      }
     ],
     "prompt_number": 18
    },
    {
     "cell_type": "markdown",
     "metadata": {},
     "source": [
      "***Booleans***\n",
      "\n"
     ]
    },
    {
     "cell_type": "markdown",
     "metadata": {},
     "source": [
      "### Control Flow\n",
      "\n",
      "***if, elif, and else***\n",
      "\n",
      "```\n",
      "if x < 0:\n",
      "    print(\"It's negative\")\n",
      "```\n",
      "\n",
      "An `if` statement can be optionally followed by one or more `elif` blocks and a catch-all `else` block if all of the conditions are `False`:\n",
      "\n",
      "```\n",
      "if x < 0:\n",
      "    print(\"It's negative\")\n",
      "elif x == 0:\n",
      "    print(\"Equal to zero\")\n",
      "elif 0 < x < 5:\n",
      "    print(\"Positive but smaller than 5\")\n",
      "else:\n",
      "    print(\"Positive and larger than or equal to 5\")\n",
      "```        "
     ]
    },
    {
     "cell_type": "markdown",
     "metadata": {},
     "source": [
      "If any of the conditions is `True`, no further `elif` or `else` blocks will be reached. With a compound condition using `and` or `or`, conditions are evaluated left-to-right and will short circuit:"
     ]
    },
    {
     "cell_type": "code",
     "collapsed": false,
     "input": [
      "a = 5; b = 7"
     ],
     "language": "python",
     "metadata": {},
     "outputs": [],
     "prompt_number": 19
    },
    {
     "cell_type": "code",
     "collapsed": false,
     "input": [
      "c = 8; d = 4"
     ],
     "language": "python",
     "metadata": {},
     "outputs": [],
     "prompt_number": 20
    },
    {
     "cell_type": "code",
     "collapsed": false,
     "input": [
      "if a < b or c > d:\n",
      "    print(\"Made it\")"
     ],
     "language": "python",
     "metadata": {},
     "outputs": [
      {
       "output_type": "stream",
       "stream": "stdout",
       "text": [
        "Made it\n"
       ]
      }
     ],
     "prompt_number": 21
    },
    {
     "cell_type": "markdown",
     "metadata": {},
     "source": [
      "In this example the `c > d` never gets evaluated because the first comparison was `True`."
     ]
    },
    {
     "cell_type": "markdown",
     "metadata": {},
     "source": [
      "***for loops***\n",
      "\n",
      "`for` loops are for iterating over a collection or an interator. The standard syntax for a `for` loop is:\n",
      "\n",
      "```\n",
      "for value in collection:\n",
      "    # do something with value\n",
      "```\n",
      "\n",
      "An example:"
     ]
    },
    {
     "cell_type": "code",
     "collapsed": false,
     "input": [
      "for i in range(10):\n",
      "    print(i)"
     ],
     "language": "python",
     "metadata": {},
     "outputs": [
      {
       "output_type": "stream",
       "stream": "stdout",
       "text": [
        "0\n",
        "1\n",
        "2\n",
        "3\n",
        "4\n",
        "5\n",
        "6\n",
        "7\n",
        "8\n",
        "9\n"
       ]
      }
     ],
     "prompt_number": 22
    },
    {
     "cell_type": "markdown",
     "metadata": {},
     "source": [
      "A `for` loop can be advanced to the next iteration, skipping the remainder of the block,using the `continue` keyword. Consider this code which sums up integers in a list and skips `None` values:"
     ]
    },
    {
     "cell_type": "code",
     "collapsed": false,
     "input": [
      "sequence = [1, 2, None, 4, None, 5]\n",
      "total = 0\n",
      "for value in sequence:\n",
      "    if value is None:\n",
      "        continue\n",
      "    total += value  \n",
      "    \n",
      "print(total)    "
     ],
     "language": "python",
     "metadata": {},
     "outputs": [
      {
       "output_type": "stream",
       "stream": "stdout",
       "text": [
        "12\n"
       ]
      }
     ],
     "prompt_number": 25
    },
    {
     "cell_type": "markdown",
     "metadata": {},
     "source": [
      "A `for` loop can exited altogether using the `break` keyword. This code sums elements of the list until 5 is reached:"
     ]
    },
    {
     "cell_type": "code",
     "collapsed": false,
     "input": [
      "sequence = [1, 2, 0, 4, 6, 5, 2, 1]\n",
      "total_until_5 = 0\n",
      "for value in sequence:\n",
      "    if value == 5:\n",
      "        break\n",
      "    total_until_5 += value    "
     ],
     "language": "python",
     "metadata": {},
     "outputs": [],
     "prompt_number": 27
    },
    {
     "cell_type": "markdown",
     "metadata": {},
     "source": [
      "As we will see in more detail, if the elements in the collection or iterator are sequences (tuples or lists, say), they can be conveniently *unpacked* into variables in the `for` loop statement:\n",
      "\n",
      "```\n",
      "for a, b, c in iterator:\n",
      "    # do something\n",
      "```    \n",
      "\n",
      "***while loops***\n",
      "\n",
      "A `while` loop specifies a condition and a block of code that is to be executed until the condition evaluates to `False` or the loop is explicitly ended with `break`:\n",
      "\n"
     ]
    },
    {
     "cell_type": "code",
     "collapsed": false,
     "input": [
      "x = 256\n",
      "total = 0\n",
      "while x > 0:\n",
      "    if total > 500:\n",
      "        break\n",
      "    total += x\n",
      "    x = x // 2"
     ],
     "language": "python",
     "metadata": {},
     "outputs": [],
     "prompt_number": 28
    },
    {
     "cell_type": "markdown",
     "metadata": {},
     "source": [
      "***pass***\n",
      "\n",
      "`pass` is the \"no-op\" statement in `Python`. It can be used in blocks where no action is to be taken; it is only required because `Python` uses whitespace to delimit code blocks:\n",
      "\n",
      "```\n",
      "if x < 0:\n",
      "    print(\"negative!\")\n",
      "elif x == 0:\n",
      "    # TODO: put something smart here\n",
      "    pass\n",
      "else:\n",
      "    print(\"positive!\"\n",
      "```\n",
      "\n",
      "It's common to use `pass` as a place-holder in code while working on a new piece of functionality:\n",
      "\n",
      "```\n",
      "def f(x, y, z):\n",
      "    # TODO: implement this function!\n",
      "    pass\n",
      "```\n",
      "\n",
      "***Exception Handling***\n",
      "\n",
      "Handling `Python` errors or *exceptions* gracefully is an important part of building robust programs. In data analysis applications, many functions only work on certain kinds of input. For example, `Python`'s `float` function is capable of casting a string to a floating point number, but fails with `ValueError` on improper inputs:"
     ]
    },
    {
     "cell_type": "code",
     "collapsed": false,
     "input": [
      "float('1.2345')"
     ],
     "language": "python",
     "metadata": {},
     "outputs": [
      {
       "metadata": {},
       "output_type": "pyout",
       "prompt_number": 29,
       "text": [
        "1.2345"
       ]
      }
     ],
     "prompt_number": 29
    },
    {
     "cell_type": "code",
     "collapsed": false,
     "input": [
      "float('something')"
     ],
     "language": "python",
     "metadata": {},
     "outputs": [
      {
       "ename": "ValueError",
       "evalue": "could not convert string to float: something",
       "output_type": "pyerr",
       "traceback": [
        "\u001b[0;31m---------------------------------------------------------------------------\u001b[0m\n\u001b[0;31mValueError\u001b[0m                                Traceback (most recent call last)",
        "\u001b[0;32m<ipython-input-30-439904410854>\u001b[0m in \u001b[0;36m<module>\u001b[0;34m()\u001b[0m\n\u001b[0;32m----> 1\u001b[0;31m \u001b[0mfloat\u001b[0m\u001b[0;34m(\u001b[0m\u001b[0;34m'something'\u001b[0m\u001b[0;34m)\u001b[0m\u001b[0;34m\u001b[0m\u001b[0m\n\u001b[0m",
        "\u001b[0;31mValueError\u001b[0m: could not convert string to float: something"
       ]
      }
     ],
     "prompt_number": 30
    },
    {
     "cell_type": "markdown",
     "metadata": {},
     "source": [
      "Imagine that we want a version of the `float` function that fails gracefully, returning the input argument. We can do this by writing a function that encloses the call to `float` in a `try/except` block:"
     ]
    },
    {
     "cell_type": "code",
     "collapsed": false,
     "input": [
      "def attempt_float(x):\n",
      "    try:\n",
      "        return float(x)\n",
      "    except:\n",
      "        return x"
     ],
     "language": "python",
     "metadata": {},
     "outputs": [],
     "prompt_number": 31
    },
    {
     "cell_type": "markdown",
     "metadata": {},
     "source": [
      "The code in the `except` part will only execute if `float(x)` raises an exception:"
     ]
    },
    {
     "cell_type": "code",
     "collapsed": false,
     "input": [
      "attempt_float('1.2345')"
     ],
     "language": "python",
     "metadata": {},
     "outputs": [
      {
       "metadata": {},
       "output_type": "pyout",
       "prompt_number": 32,
       "text": [
        "1.2345"
       ]
      }
     ],
     "prompt_number": 32
    },
    {
     "cell_type": "code",
     "collapsed": false,
     "input": [
      "attempt_float('something')"
     ],
     "language": "python",
     "metadata": {},
     "outputs": [
      {
       "metadata": {},
       "output_type": "pyout",
       "prompt_number": 33,
       "text": [
        "'something'"
       ]
      }
     ],
     "prompt_number": 33
    },
    {
     "cell_type": "markdown",
     "metadata": {},
     "source": [
      "Notice that `float` can raise exceptions other than `ValueError`:"
     ]
    },
    {
     "cell_type": "code",
     "collapsed": false,
     "input": [
      "float((1,2))"
     ],
     "language": "python",
     "metadata": {},
     "outputs": [
      {
       "ename": "TypeError",
       "evalue": "float() argument must be a string or a number",
       "output_type": "pyerr",
       "traceback": [
        "\u001b[0;31m---------------------------------------------------------------------------\u001b[0m\n\u001b[0;31mTypeError\u001b[0m                                 Traceback (most recent call last)",
        "\u001b[0;32m<ipython-input-34-a7437c28cf3f>\u001b[0m in \u001b[0;36m<module>\u001b[0;34m()\u001b[0m\n\u001b[0;32m----> 1\u001b[0;31m \u001b[0mfloat\u001b[0m\u001b[0;34m(\u001b[0m\u001b[0;34m(\u001b[0m\u001b[0;36m1\u001b[0m\u001b[0;34m,\u001b[0m\u001b[0;36m2\u001b[0m\u001b[0;34m)\u001b[0m\u001b[0;34m)\u001b[0m\u001b[0;34m\u001b[0m\u001b[0m\n\u001b[0m",
        "\u001b[0;31mTypeError\u001b[0m: float() argument must be a string or a number"
       ]
      }
     ],
     "prompt_number": 34
    },
    {
     "cell_type": "markdown",
     "metadata": {},
     "source": [
      "***range***\n",
      "\n",
      "The `range` function produces a list of evenly-spaced integers:"
     ]
    },
    {
     "cell_type": "code",
     "collapsed": false,
     "input": [
      "range(10)"
     ],
     "language": "python",
     "metadata": {},
     "outputs": [
      {
       "metadata": {},
       "output_type": "pyout",
       "prompt_number": 35,
       "text": [
        "[0, 1, 2, 3, 4, 5, 6, 7, 8, 9]"
       ]
      }
     ],
     "prompt_number": 35
    },
    {
     "cell_type": "markdown",
     "metadata": {},
     "source": [
      "Both a start, end, and step can be given:"
     ]
    },
    {
     "cell_type": "code",
     "collapsed": false,
     "input": [
      "range(0, 20, 2)"
     ],
     "language": "python",
     "metadata": {},
     "outputs": [
      {
       "metadata": {},
       "output_type": "pyout",
       "prompt_number": 36,
       "text": [
        "[0, 2, 4, 6, 8, 10, 12, 14, 16, 18]"
       ]
      }
     ],
     "prompt_number": 36
    },
    {
     "cell_type": "markdown",
     "metadata": {},
     "source": [
      "As you can see, `range` produces integers up to but not including the endpoint. A common use of `range` is for iterating through sequences by index:"
     ]
    },
    {
     "cell_type": "code",
     "collapsed": false,
     "input": [
      "seq = [1, 2, 3, 4]\n",
      "for i in range(len(seq)):\n",
      "    val = seq[i]"
     ],
     "language": "python",
     "metadata": {},
     "outputs": [],
     "prompt_number": 37
    },
    {
     "cell_type": "markdown",
     "metadata": {},
     "source": [
      "## Data Structures and Sequences\n",
      "\n",
      "`Python` has some simple, but powerful data structures. To become a proficient `Python` programmer one must master their use.\n",
      "\n",
      "### Tuple\n",
      "\n",
      "A *tuple* is a one-dimensional, fixed-length, *immutable* sequence of `Python` objects. The easiest way to create one is with a comma-separated sequence of values:"
     ]
    },
    {
     "cell_type": "code",
     "collapsed": false,
     "input": [
      "tup = 4, 5, 6"
     ],
     "language": "python",
     "metadata": {},
     "outputs": [],
     "prompt_number": 38
    },
    {
     "cell_type": "code",
     "collapsed": false,
     "input": [
      "tup"
     ],
     "language": "python",
     "metadata": {},
     "outputs": [
      {
       "metadata": {},
       "output_type": "pyout",
       "prompt_number": 39,
       "text": [
        "(4, 5, 6)"
       ]
      }
     ],
     "prompt_number": 39
    },
    {
     "cell_type": "code",
     "collapsed": false,
     "input": [
      "nested_tup = (4,5,6), (7,8)"
     ],
     "language": "python",
     "metadata": {},
     "outputs": [],
     "prompt_number": 40
    },
    {
     "cell_type": "code",
     "collapsed": false,
     "input": [
      "nested_tup"
     ],
     "language": "python",
     "metadata": {},
     "outputs": [
      {
       "metadata": {},
       "output_type": "pyout",
       "prompt_number": 41,
       "text": [
        "((4, 5, 6), (7, 8))"
       ]
      }
     ],
     "prompt_number": 41
    },
    {
     "cell_type": "code",
     "collapsed": false,
     "input": [
      "tuple([4, 0, 2])"
     ],
     "language": "python",
     "metadata": {},
     "outputs": [
      {
       "metadata": {},
       "output_type": "pyout",
       "prompt_number": 42,
       "text": [
        "(4, 0, 2)"
       ]
      }
     ],
     "prompt_number": 42
    },
    {
     "cell_type": "code",
     "collapsed": false,
     "input": [
      "tup = tuple('string')"
     ],
     "language": "python",
     "metadata": {},
     "outputs": [],
     "prompt_number": 43
    },
    {
     "cell_type": "code",
     "collapsed": false,
     "input": [
      "tup"
     ],
     "language": "python",
     "metadata": {},
     "outputs": [
      {
       "metadata": {},
       "output_type": "pyout",
       "prompt_number": 44,
       "text": [
        "('s', 't', 'r', 'i', 'n', 'g')"
       ]
      }
     ],
     "prompt_number": 44
    },
    {
     "cell_type": "markdown",
     "metadata": {},
     "source": [
      "Elements can be accessed with squared brackets [] as with most other sequence types. Like `C++`, and many other languages, sequences are 0-indexed in `Python`:"
     ]
    },
    {
     "cell_type": "code",
     "collapsed": false,
     "input": [
      "tup[0]"
     ],
     "language": "python",
     "metadata": {},
     "outputs": [
      {
       "metadata": {},
       "output_type": "pyout",
       "prompt_number": 45,
       "text": [
        "'s'"
       ]
      }
     ],
     "prompt_number": 45
    },
    {
     "cell_type": "markdown",
     "metadata": {},
     "source": [
      "Tuples are immutable in `Python`:"
     ]
    },
    {
     "cell_type": "code",
     "collapsed": false,
     "input": [
      "tup[0] = 'S'"
     ],
     "language": "python",
     "metadata": {},
     "outputs": [
      {
       "ename": "TypeError",
       "evalue": "'tuple' object does not support item assignment",
       "output_type": "pyerr",
       "traceback": [
        "\u001b[0;31m---------------------------------------------------------------------------\u001b[0m\n\u001b[0;31mTypeError\u001b[0m                                 Traceback (most recent call last)",
        "\u001b[0;32m<ipython-input-46-d856c5743148>\u001b[0m in \u001b[0;36m<module>\u001b[0;34m()\u001b[0m\n\u001b[0;32m----> 1\u001b[0;31m \u001b[0mtup\u001b[0m\u001b[0;34m[\u001b[0m\u001b[0;36m0\u001b[0m\u001b[0;34m]\u001b[0m \u001b[0;34m=\u001b[0m \u001b[0;34m'S'\u001b[0m\u001b[0;34m\u001b[0m\u001b[0m\n\u001b[0m",
        "\u001b[0;31mTypeError\u001b[0m: 'tuple' object does not support item assignment"
       ]
      }
     ],
     "prompt_number": 46
    },
    {
     "cell_type": "markdown",
     "metadata": {},
     "source": [
      "Tuples can be concatenated using the `+` operator to produce longer tupels:"
     ]
    },
    {
     "cell_type": "code",
     "collapsed": false,
     "input": [
      "(4, None, 'foo') + (6, 0) + ('bar',)"
     ],
     "language": "python",
     "metadata": {},
     "outputs": [
      {
       "metadata": {},
       "output_type": "pyout",
       "prompt_number": 47,
       "text": [
        "(4, None, 'foo', 6, 0, 'bar')"
       ]
      }
     ],
     "prompt_number": 47
    },
    {
     "cell_type": "markdown",
     "metadata": {},
     "source": [
      "Multiplying a tuple by an integer, as with lists, has the effect of concatenating together that many copies of the tuple."
     ]
    },
    {
     "cell_type": "code",
     "collapsed": false,
     "input": [
      "('foo', 'bar') * 4"
     ],
     "language": "python",
     "metadata": {},
     "outputs": [
      {
       "metadata": {},
       "output_type": "pyout",
       "prompt_number": 48,
       "text": [
        "('foo', 'bar', 'foo', 'bar', 'foo', 'bar', 'foo', 'bar')"
       ]
      }
     ],
     "prompt_number": 48
    },
    {
     "cell_type": "markdown",
     "metadata": {},
     "source": [
      "***Unpacking tuples***\n",
      "\n",
      "If you try to `assign` to a tuple-like expression of variables, `Python` will attempt to *unpack* the value on the right-hand side of the equals sign:"
     ]
    },
    {
     "cell_type": "code",
     "collapsed": false,
     "input": [
      "tup = (4,5,6)"
     ],
     "language": "python",
     "metadata": {},
     "outputs": [],
     "prompt_number": 49
    },
    {
     "cell_type": "code",
     "collapsed": false,
     "input": [
      "a, b, c = tup"
     ],
     "language": "python",
     "metadata": {},
     "outputs": [],
     "prompt_number": 50
    },
    {
     "cell_type": "code",
     "collapsed": false,
     "input": [
      "b"
     ],
     "language": "python",
     "metadata": {},
     "outputs": [
      {
       "metadata": {},
       "output_type": "pyout",
       "prompt_number": 51,
       "text": [
        "5"
       ]
      }
     ],
     "prompt_number": 51
    },
    {
     "cell_type": "code",
     "collapsed": false,
     "input": [
      "d"
     ],
     "language": "python",
     "metadata": {},
     "outputs": [
      {
       "metadata": {},
       "output_type": "pyout",
       "prompt_number": 52,
       "text": [
        "4"
       ]
      }
     ],
     "prompt_number": 52
    },
    {
     "cell_type": "markdown",
     "metadata": {},
     "source": [
      "Even nested tuples can be unpacked:"
     ]
    },
    {
     "cell_type": "code",
     "collapsed": false,
     "input": [
      "tup = 4, 5, (6,7)"
     ],
     "language": "python",
     "metadata": {},
     "outputs": [],
     "prompt_number": 53
    },
    {
     "cell_type": "code",
     "collapsed": false,
     "input": [
      "a, b, (c, d) = tup"
     ],
     "language": "python",
     "metadata": {},
     "outputs": [],
     "prompt_number": 54
    },
    {
     "cell_type": "code",
     "collapsed": false,
     "input": [
      "d"
     ],
     "language": "python",
     "metadata": {},
     "outputs": [
      {
       "metadata": {},
       "output_type": "pyout",
       "prompt_number": 55,
       "text": [
        "7"
       ]
      }
     ],
     "prompt_number": 55
    },
    {
     "cell_type": "markdown",
     "metadata": {},
     "source": [
      "One of the most common uses of variable unpacking when iterating over sequences of tuples or lists:"
     ]
    },
    {
     "cell_type": "code",
     "collapsed": false,
     "input": [
      "seq = [(1,2,3), (4,5,6), (7,8,9)]\n",
      "for a, b, c in seq:\n",
      "    pass"
     ],
     "language": "python",
     "metadata": {},
     "outputs": [],
     "prompt_number": 57
    },
    {
     "cell_type": "markdown",
     "metadata": {},
     "source": [
      "Another common use is for returning multiple values from a function. More on this later.\n",
      "\n",
      "***Tuple methods***\n",
      "\n",
      "Since the size and contents of a tuple cannot be modified, it is very light on instance methods. One particularly useful one (also available on lists) is `count`, which counts the number of occurrences of a value:"
     ]
    },
    {
     "cell_type": "code",
     "collapsed": false,
     "input": [
      "a = (1,2,2,2,3,4,2)"
     ],
     "language": "python",
     "metadata": {},
     "outputs": [],
     "prompt_number": 58
    },
    {
     "cell_type": "code",
     "collapsed": false,
     "input": [
      "a.count(2)"
     ],
     "language": "python",
     "metadata": {},
     "outputs": [
      {
       "metadata": {},
       "output_type": "pyout",
       "prompt_number": 59,
       "text": [
        "4"
       ]
      }
     ],
     "prompt_number": 59
    },
    {
     "cell_type": "markdown",
     "metadata": {},
     "source": [
      "### List\n",
      "\n",
      "In contrast with tuples, lists are variable-length and their contents can be modified. They can be defined using square brackets [] or using the `list` type function:"
     ]
    },
    {
     "cell_type": "code",
     "collapsed": false,
     "input": [
      "a_list = [2, 3, 7, None]"
     ],
     "language": "python",
     "metadata": {},
     "outputs": [],
     "prompt_number": 60
    },
    {
     "cell_type": "code",
     "collapsed": false,
     "input": [
      "tup = ('foo', 'bar', 'baz')"
     ],
     "language": "python",
     "metadata": {},
     "outputs": [],
     "prompt_number": 66
    },
    {
     "cell_type": "code",
     "collapsed": false,
     "input": [
      "b_list = list(tup)"
     ],
     "language": "python",
     "metadata": {},
     "outputs": [],
     "prompt_number": 67
    },
    {
     "cell_type": "code",
     "collapsed": false,
     "input": [
      "b_list"
     ],
     "language": "python",
     "metadata": {},
     "outputs": [
      {
       "metadata": {},
       "output_type": "pyout",
       "prompt_number": 68,
       "text": [
        "['foo', 'bar', 'baz']"
       ]
      }
     ],
     "prompt_number": 68
    },
    {
     "cell_type": "code",
     "collapsed": false,
     "input": [
      "b_list[1] = 'peekaboo'"
     ],
     "language": "python",
     "metadata": {},
     "outputs": [],
     "prompt_number": 69
    },
    {
     "cell_type": "code",
     "collapsed": false,
     "input": [
      "b_list"
     ],
     "language": "python",
     "metadata": {},
     "outputs": [
      {
       "metadata": {},
       "output_type": "pyout",
       "prompt_number": 70,
       "text": [
        "['foo', 'peekaboo', 'baz']"
       ]
      }
     ],
     "prompt_number": 70
    },
    {
     "cell_type": "markdown",
     "metadata": {},
     "source": [
      "Lists and tuples are semantically similar as one-dimensional sequences of objects and thus can be used interchangably in many functions.\n",
      "\n",
      "***Adding and removing elements***\n",
      "\n",
      "Elements can be appended to the end of the list with the `append` method:"
     ]
    },
    {
     "cell_type": "code",
     "collapsed": false,
     "input": [
      "b_list.append('dwarf')"
     ],
     "language": "python",
     "metadata": {},
     "outputs": [],
     "prompt_number": 71
    },
    {
     "cell_type": "code",
     "collapsed": false,
     "input": [
      "b_list"
     ],
     "language": "python",
     "metadata": {},
     "outputs": [
      {
       "metadata": {},
       "output_type": "pyout",
       "prompt_number": 72,
       "text": [
        "['foo', 'peekaboo', 'baz', 'dwarf']"
       ]
      }
     ],
     "prompt_number": 72
    },
    {
     "cell_type": "markdown",
     "metadata": {},
     "source": [
      "Using `insert` you can insert an element at a specific location in the list:"
     ]
    },
    {
     "cell_type": "code",
     "collapsed": false,
     "input": [
      "b_list.insert(1, 'red')"
     ],
     "language": "python",
     "metadata": {},
     "outputs": [],
     "prompt_number": 74
    },
    {
     "cell_type": "code",
     "collapsed": false,
     "input": [
      "b_list"
     ],
     "language": "python",
     "metadata": {},
     "outputs": [
      {
       "metadata": {},
       "output_type": "pyout",
       "prompt_number": 76,
       "text": [
        "['foo', 'red', 'peekaboo', 'baz', 'dwarf']"
       ]
      }
     ],
     "prompt_number": 76
    },
    {
     "cell_type": "markdown",
     "metadata": {},
     "source": [
      "The inverse operation to `insert` is `pop`, which removes and returns an element at a particular index:"
     ]
    },
    {
     "cell_type": "code",
     "collapsed": false,
     "input": [
      "b_list.pop(2)"
     ],
     "language": "python",
     "metadata": {},
     "outputs": [
      {
       "metadata": {},
       "output_type": "pyout",
       "prompt_number": 77,
       "text": [
        "'peekaboo'"
       ]
      }
     ],
     "prompt_number": 77
    },
    {
     "cell_type": "code",
     "collapsed": false,
     "input": [
      "b_list"
     ],
     "language": "python",
     "metadata": {},
     "outputs": [
      {
       "metadata": {},
       "output_type": "pyout",
       "prompt_number": 79,
       "text": [
        "['foo', 'red', 'baz', 'dwarf']"
       ]
      }
     ],
     "prompt_number": 79
    },
    {
     "cell_type": "markdown",
     "metadata": {},
     "source": [
      "Elements can be removed by value using `remove`, which locates the first instance of the value and removes it from the list:"
     ]
    },
    {
     "cell_type": "code",
     "collapsed": false,
     "input": [
      "b_list.append('foo')"
     ],
     "language": "python",
     "metadata": {},
     "outputs": [],
     "prompt_number": 80
    },
    {
     "cell_type": "code",
     "collapsed": false,
     "input": [
      "b_list.remove('foo')"
     ],
     "language": "python",
     "metadata": {},
     "outputs": [],
     "prompt_number": 81
    },
    {
     "cell_type": "code",
     "collapsed": false,
     "input": [
      "b_list"
     ],
     "language": "python",
     "metadata": {},
     "outputs": [
      {
       "metadata": {},
       "output_type": "pyout",
       "prompt_number": 82,
       "text": [
        "['red', 'baz', 'dwarf', 'foo']"
       ]
      }
     ],
     "prompt_number": 82
    },
    {
     "cell_type": "markdown",
     "metadata": {},
     "source": [
      "If performance is not a concern, by using `append` and `remove`, a `Python` list can be used as a perfectly suitable \"multi-set\" data structure.\n",
      "\n",
      "You can check if a list contains a value using the `in` keyword:"
     ]
    },
    {
     "cell_type": "code",
     "collapsed": false,
     "input": [
      "'dwarf' in b_list"
     ],
     "language": "python",
     "metadata": {},
     "outputs": [
      {
       "metadata": {},
       "output_type": "pyout",
       "prompt_number": 83,
       "text": [
        "True"
       ]
      }
     ],
     "prompt_number": 83
    },
    {
     "cell_type": "markdown",
     "metadata": {},
     "source": [
      "***Concatenating and combining lists***\n",
      "\n",
      "Just as with tuples, adding two lists together with `+` concatenates them:"
     ]
    },
    {
     "cell_type": "code",
     "collapsed": false,
     "input": [
      "[4, None, 'foo'] + [7, 8, (2,3)]"
     ],
     "language": "python",
     "metadata": {},
     "outputs": [
      {
       "metadata": {},
       "output_type": "pyout",
       "prompt_number": 84,
       "text": [
        "[4, None, 'foo', 7, 8, (2, 3)]"
       ]
      }
     ],
     "prompt_number": 84
    },
    {
     "cell_type": "markdown",
     "metadata": {},
     "source": [
      "If you have a list already defined, you can append multiple elements to it using the extend method:"
     ]
    },
    {
     "cell_type": "code",
     "collapsed": false,
     "input": [
      "x = [4, None, 'foo']"
     ],
     "language": "python",
     "metadata": {},
     "outputs": [],
     "prompt_number": 85
    },
    {
     "cell_type": "code",
     "collapsed": false,
     "input": [
      "x.extend([7, 8, (2,3)])"
     ],
     "language": "python",
     "metadata": {},
     "outputs": [],
     "prompt_number": 86
    },
    {
     "cell_type": "code",
     "collapsed": false,
     "input": [
      "x"
     ],
     "language": "python",
     "metadata": {},
     "outputs": [
      {
       "metadata": {},
       "output_type": "pyout",
       "prompt_number": 87,
       "text": [
        "[4, None, 'foo', 7, 8, (2, 3)]"
       ]
      }
     ],
     "prompt_number": 87
    },
    {
     "cell_type": "markdown",
     "metadata": {},
     "source": [
      "Note that list concatenation is a comparatively expensive operation since a new list must be created and the objects copied over. Using `extend` to append elements to an existing list, especially if you are building up a large list, is usually preferable. Thus,\n",
      "\n",
      "```\n",
      "everything = []\n",
      "for chunk in list_of_lists:\n",
      "    everything.extend(chunk)\n",
      "```\n",
      "\n",
      "is faster than \n",
      "\n",
      "```\n",
      "everything = []\n",
      "for chunk in list_of_lists:\n",
      "    everything = everything + chunk\n",
      "```\n",
      "\n",
      "***sorting***\n",
      "\n",
      "A list can be sorted in-place (without creating a new object) by calling its `sort` function:"
     ]
    },
    {
     "cell_type": "code",
     "collapsed": false,
     "input": [
      "a = [7, 2, 5, 1, 3]"
     ],
     "language": "python",
     "metadata": {},
     "outputs": [],
     "prompt_number": 91
    },
    {
     "cell_type": "code",
     "collapsed": false,
     "input": [
      "a.sort()"
     ],
     "language": "python",
     "metadata": {},
     "outputs": [],
     "prompt_number": 92
    },
    {
     "cell_type": "code",
     "collapsed": false,
     "input": [
      "a"
     ],
     "language": "python",
     "metadata": {},
     "outputs": [
      {
       "metadata": {},
       "output_type": "pyout",
       "prompt_number": 93,
       "text": [
        "[1, 2, 3, 5, 7]"
       ]
      }
     ],
     "prompt_number": 93
    },
    {
     "cell_type": "markdown",
     "metadata": {},
     "source": [
      "`sort` has a few options that will occassionally come in handy. One is the ability to pass a secondary `sort key`, i.e. a function that produces a value to use to sort the objects. For example, we could sort a collection of strings by their lengths:"
     ]
    },
    {
     "cell_type": "code",
     "collapsed": false,
     "input": [
      "b = ['saw', 'small', 'He', 'foxes', 'six']"
     ],
     "language": "python",
     "metadata": {},
     "outputs": [],
     "prompt_number": 94
    },
    {
     "cell_type": "code",
     "collapsed": false,
     "input": [
      "b.sort(key=len)"
     ],
     "language": "python",
     "metadata": {},
     "outputs": [],
     "prompt_number": 95
    },
    {
     "cell_type": "code",
     "collapsed": false,
     "input": [
      "b"
     ],
     "language": "python",
     "metadata": {},
     "outputs": [
      {
       "metadata": {},
       "output_type": "pyout",
       "prompt_number": 96,
       "text": [
        "['He', 'saw', 'six', 'small', 'foxes']"
       ]
      }
     ],
     "prompt_number": 96
    },
    {
     "cell_type": "markdown",
     "metadata": {},
     "source": [
      "***Binary search and maintaining a sorted list***\n",
      "\n"
     ]
    },
    {
     "cell_type": "code",
     "collapsed": false,
     "input": [],
     "language": "python",
     "metadata": {},
     "outputs": []
    }
   ],
   "metadata": {}
  }
 ]
}