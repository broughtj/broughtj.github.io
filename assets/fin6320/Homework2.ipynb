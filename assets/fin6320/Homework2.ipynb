{
 "metadata": {
  "name": "",
  "signature": "sha256:4924317238c326cf69980e21ad8a445b0635126285a5866b0a615a5aa710ec6b"
 },
 "nbformat": 3,
 "nbformat_minor": 0,
 "worksheets": [
  {
   "cells": [
    {
     "cell_type": "markdown",
     "metadata": {},
     "source": [
      "# Finance 6320 Spring 2015\n",
      "\n",
      "### Dr. Brough \n",
      "### Homework 2 \n",
      "### Due date: TBA "
     ]
    },
    {
     "cell_type": "markdown",
     "metadata": {},
     "source": [
      "## Problem 1\n",
      "\n",
      "In this problem you will extend the `Option` class that we wrote together in class by providing a method to price an option with the single-period Binomial model.\n",
      "\n",
      "Remember that our class was the following (minor changes):"
     ]
    },
    {
     "cell_type": "code",
     "collapsed": false,
     "input": [
      "class EuropeanOption(object):\n",
      "    def __init__(self, strike):\n",
      "        self.strike = strike\n",
      "        \n",
      "    def GetStrike(self):\n",
      "        return self.strike\n",
      "    \n",
      "    def SetStrike(self, strike):\n",
      "        self.strike = strike"
     ],
     "language": "python",
     "metadata": {},
     "outputs": [],
     "prompt_number": 1
    },
    {
     "cell_type": "markdown",
     "metadata": {},
     "source": [
      "Which can used to instantiate objects as follows:"
     ]
    },
    {
     "cell_type": "code",
     "collapsed": false,
     "input": [
      "opt1 = EuropeanOption(40)\n",
      "opt2 = EuropeanOption(45)"
     ],
     "language": "python",
     "metadata": {},
     "outputs": [],
     "prompt_number": 2
    },
    {
     "cell_type": "code",
     "collapsed": false,
     "input": [
      "whos"
     ],
     "language": "python",
     "metadata": {},
     "outputs": [
      {
       "output_type": "stream",
       "stream": "stdout",
       "text": [
        "Variable         Type              Data/Info\n",
        "--------------------------------------------\n",
        "EuropeanOption   type              <class '__main__.EuropeanOption'>\n",
        "opt1             EuropeanOption    <__main__.EuropeanOption object at 0x106e29d30>\n",
        "opt2             EuropeanOption    <__main__.EuropeanOption object at 0x106e29710>\n"
       ]
      }
     ],
     "prompt_number": 3
    },
    {
     "cell_type": "markdown",
     "metadata": {},
     "source": [
      "In this problem you will add a class method called `GetPrice` that implements the single-period Binomial model (for a call option). Also add any other class attributes that you think are needed."
     ]
    },
    {
     "cell_type": "markdown",
     "metadata": {},
     "source": [
      "\n",
      "\n",
      "\n",
      "Please enter your code in the cell below:"
     ]
    },
    {
     "cell_type": "code",
     "collapsed": false,
     "input": [],
     "language": "python",
     "metadata": {},
     "outputs": []
    },
    {
     "cell_type": "markdown",
     "metadata": {},
     "source": [
      "Figure out another way to implement the single-period Binomial model for a European Put option."
     ]
    },
    {
     "cell_type": "markdown",
     "metadata": {},
     "source": [
      "## Problem 2\n",
      "\n",
      "Now implement the multiperiod Binomial for both European calls and puts. Please enter your code below:"
     ]
    },
    {
     "cell_type": "code",
     "collapsed": false,
     "input": [],
     "language": "python",
     "metadata": {},
     "outputs": []
    },
    {
     "cell_type": "markdown",
     "metadata": {},
     "source": [
      "## Problem 3\n",
      "\n",
      "Now please implement the multiperiod Binomial model for American calls and puts including a continuous dividend yield. Please enter your code below:"
     ]
    },
    {
     "cell_type": "code",
     "collapsed": false,
     "input": [],
     "language": "python",
     "metadata": {},
     "outputs": [],
     "prompt_number": 3
    }
   ],
   "metadata": {}
  }
 ]
}